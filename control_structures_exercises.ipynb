{
 "cells": [
  {
   "cell_type": "code",
   "execution_count": 2,
   "id": "0e6b5463",
   "metadata": {},
   "outputs": [
    {
     "name": "stdout",
     "output_type": "stream",
     "text": [
      "What day of the week is it?  Friday\n",
      "It is not Monday!\n"
     ]
    }
   ],
   "source": [
    "# Prompt the user for a day of the week, print out whether the day \n",
    "# is Monday or not\n",
    "\n",
    "response = input(\"What day of the week is it?  \")\n",
    "if response.lower() == 'monday': \n",
    "    print(\"It is Monday.\")\n",
    "else: \n",
    "    print(\"It is not Monday!\")"
   ]
  },
  {
   "cell_type": "code",
   "execution_count": 1,
   "id": "e9a0a5f1",
   "metadata": {},
   "outputs": [
    {
     "name": "stdout",
     "output_type": "stream",
     "text": [
      "What day of the week is it?  Tuesday\n",
      "It is a weekday.\n"
     ]
    }
   ],
   "source": [
    "# Prompt the user for a day of the week, print out whether the day is \n",
    "# a weekday or a weekend\n",
    "new_response = input(\"What day of the week is it?  \")\n",
    "if (new_response.lower() == \"saturday\"\n",
    "    or new_response.lower() == \"sunday\"):\n",
    "    print(\"It's the weekend!\")\n",
    "else: \n",
    "    print(\"It is a weekday.\")\n",
    "        "
   ]
  },
  {
   "cell_type": "code",
   "execution_count": 15,
   "id": "12404b3d",
   "metadata": {},
   "outputs": [
    {
     "data": {
      "text/plain": [
       "390"
      ]
     },
     "execution_count": 15,
     "metadata": {},
     "output_type": "execute_result"
    }
   ],
   "source": [
    "\n",
    "\n",
    "# Calculate a weekly paycheck, accounting for overtime pay. \n",
    "# Create variables and make up values for:\n",
    "\n",
    "#     The number of hours worked in one week\n",
    "#     The hourly rate\n",
    "\n",
    "# For calculating pay:\n",
    "\n",
    "#     For working 40 hours or less, each hour is paid at the \n",
    "#     hourly rate\n",
    "\n",
    "#     For working more than 40 hours\n",
    "\n",
    "#         the first 40 hours are paid at the hourly rate\n",
    "\n",
    "#         each hour after 40 is paid at time and a half \n",
    "#         (hourly rate * 1.5)\n",
    "\n",
    "hours_worked = 39\n",
    "hour_rate = 10\n",
    "if hours_worked <= 40:\n",
    "    weekly_paycheck = hours_worked * hour_rate\n",
    "else:\n",
    "    weekly_paycheck = 40 * hour_rate + (hours_worked - 40) * hour_rate * 1.5\n",
    "weekly_paycheck    "
   ]
  },
  {
   "cell_type": "code",
   "execution_count": 16,
   "id": "34e0a113",
   "metadata": {},
   "outputs": [
    {
     "name": "stdout",
     "output_type": "stream",
     "text": [
      "5\n",
      "6\n",
      "7\n",
      "8\n",
      "9\n",
      "10\n",
      "11\n",
      "12\n",
      "13\n",
      "14\n",
      "15\n"
     ]
    }
   ],
   "source": [
    "# create a while loop that runs so long as i < = 15; \n",
    "# start i at 5, print it and increment i by 1 each time\n",
    "i = 5\n",
    "while i <= 15:\n",
    "    print(i)\n",
    "    i += 1"
   ]
  },
  {
   "cell_type": "code",
   "execution_count": 19,
   "id": "cd4b5417",
   "metadata": {},
   "outputs": [
    {
     "name": "stdout",
     "output_type": "stream",
     "text": [
      "0\n",
      "2\n",
      "4\n",
      "6\n",
      "8\n",
      "10\n",
      "12\n",
      "14\n",
      "16\n",
      "18\n",
      "20\n",
      "22\n",
      "24\n",
      "26\n",
      "28\n",
      "30\n",
      "32\n",
      "34\n",
      "36\n",
      "38\n",
      "40\n",
      "42\n",
      "44\n",
      "46\n",
      "48\n",
      "50\n",
      "52\n",
      "54\n",
      "56\n",
      "58\n",
      "60\n",
      "62\n",
      "64\n",
      "66\n",
      "68\n",
      "70\n",
      "72\n",
      "74\n",
      "76\n",
      "78\n",
      "80\n",
      "82\n",
      "84\n",
      "86\n",
      "88\n",
      "90\n",
      "92\n",
      "94\n",
      "96\n",
      "98\n",
      "100\n"
     ]
    }
   ],
   "source": [
    "# create a while loop that counts by 2 starting with 0, end at 100\n",
    "i = 0\n",
    "while i <= 100:\n",
    "    print(i)\n",
    "    i += 2"
   ]
  },
  {
   "cell_type": "code",
   "execution_count": 9,
   "id": "6aa632ce",
   "metadata": {},
   "outputs": [
    {
     "name": "stdout",
     "output_type": "stream",
     "text": [
      "2\n",
      "4\n",
      "16\n",
      "256\n",
      "65536\n"
     ]
    }
   ],
   "source": [
    "# create a while loop that prints a number (starting at 2),\n",
    "# then squares the number. It continues while the number is < 1000000\n",
    "i_square = 2\n",
    "while i_square < 1_000_000:\n",
    "    print(i_square)\n",
    "    i_square **= 2   # short hand for i_square = i_square ** 2"
   ]
  },
  {
   "cell_type": "code",
   "execution_count": 25,
   "id": "fe8d5f9a",
   "metadata": {},
   "outputs": [
    {
     "name": "stdout",
     "output_type": "stream",
     "text": [
      "100\n",
      "95\n",
      "90\n",
      "85\n",
      "80\n",
      "75\n",
      "70\n",
      "65\n",
      "60\n",
      "55\n",
      "50\n",
      "45\n",
      "40\n",
      "35\n",
      "30\n",
      "25\n",
      "20\n",
      "15\n",
      "10\n",
      "5\n"
     ]
    }
   ],
   "source": [
    "# create a while loop that prints a number and decrements by 5 until\n",
    "# the number is < 5; start at 100\n",
    "i = 100\n",
    "while not(i<5):\n",
    "    print(i)\n",
    "    i -= 5"
   ]
  },
  {
   "cell_type": "code",
   "execution_count": 24,
   "id": "d75bfd5f",
   "metadata": {},
   "outputs": [
    {
     "name": "stdout",
     "output_type": "stream",
     "text": [
      "Please enter a number between 1 and 10: 7\n",
      "7  x  1  =  7\n",
      "7  x  2  =  14\n",
      "7  x  3  =  21\n",
      "7  x  4  =  28\n",
      "7  x  5  =  35\n",
      "7  x  6  =  42\n",
      "7  x  7  =  49\n",
      "7  x  8  =  56\n",
      "7  x  9  =  63\n",
      "7  x  10  =  70\n"
     ]
    }
   ],
   "source": [
    "# create a for loop that asks a user for a number then creates a \n",
    "# multiplication table for that number from 1 to 10\n",
    "\n",
    "response = int(input(\"Please enter a number between 1 and 10: \"))\n",
    "for i in range(1,11):\n",
    "    print(response, \" x \", i, \" = \", response * i)\n",
    "    # print()\n",
    "    # print(f'{i} x ', response, f' = {i*int(response)}')\n",
    "        \n"
   ]
  },
  {
   "cell_type": "code",
   "execution_count": 26,
   "id": "8b9191eb",
   "metadata": {},
   "outputs": [
    {
     "name": "stdout",
     "output_type": "stream",
     "text": [
      "1\n",
      "22\n",
      "333\n",
      "4444\n",
      "55555\n",
      "666666\n",
      "7777777\n",
      "88888888\n",
      "999999999\n"
     ]
    }
   ],
   "source": [
    "# create a for loop that uses print to create 1 22 333 ... to 9\n",
    "for i in range(1,10):\n",
    "    print_str = \"\"\n",
    "    for j in range (1,i+1):\n",
    "        print_str = print_str + (str(i))\n",
    "    print(print_str)\n",
    "\n",
    "    # could have used: print(str(i)*i)\n",
    "        "
   ]
  },
  {
   "cell_type": "code",
   "execution_count": 30,
   "id": "bf6becb0",
   "metadata": {},
   "outputs": [
    {
     "name": "stdout",
     "output_type": "stream",
     "text": [
      "Please enter a positive integer: 5\n",
      "5\n",
      "4\n",
      "3\n",
      "2\n",
      "1\n"
     ]
    }
   ],
   "source": [
    "# write a program that prompts the user for a positive integer\n",
    "# then print out the integers from the entered value down to 1\n",
    "# decrementing by 1\n",
    "# use break\n",
    "response = int(input(\"Please enter a positive integer: \"))\n",
    "if response > 0:\n",
    "    while True:\n",
    "        print(response)\n",
    "        response -= 1\n",
    "        if response < 1:\n",
    "            break\n",
    "else:\n",
    "    print(\"Invalid input\")\n",
    "    "
   ]
  },
  {
   "cell_type": "code",
   "execution_count": 31,
   "id": "71c24237",
   "metadata": {},
   "outputs": [
    {
     "name": "stdout",
     "output_type": "stream",
     "text": [
      "Please enter a positive integer: 9\n",
      "0\n",
      "1\n",
      "2\n",
      "3\n",
      "4\n",
      "5\n",
      "6\n",
      "7\n",
      "8\n",
      "9\n"
     ]
    }
   ],
   "source": [
    "# write a program that prompts the user for a positive integer\n",
    "# then print out the integers from 0 to that integer counting by 1\n",
    "# use break\n",
    "\n",
    "x = int(input(\"Please enter a positive integer: \"))\n",
    "i = 0\n",
    "while True:\n",
    "    print(i)\n",
    "    i += 1\n",
    "    if i > x: break\n"
   ]
  },
  {
   "cell_type": "code",
   "execution_count": 4,
   "id": "7a1b8d81",
   "metadata": {},
   "outputs": [
    {
     "name": "stdout",
     "output_type": "stream",
     "text": [
      "Please enter an odd integer between 1 and 50: -1\n",
      "Invalid Input (not a positive integer)\n",
      "Please enter an odd integer between 1 and 50: r\n",
      "Invalid Input (not a positive integer)\n",
      "Please enter an odd integer between 1 and 50: %\n",
      "Invalid Input (not a positive integer)\n",
      "Please enter an odd integer between 1 and 50: dd\n",
      "Invalid Input (not a positive integer)\n",
      "Please enter an odd integer between 1 and 50: 51\n",
      "Invalid input (not odd or not in range 1-50)\n",
      "Please enter an odd integer between 1 and 50: 2\n",
      "Invalid input (not odd or not in range 1-50)\n",
      "Please enter an odd integer between 1 and 50: 1\n",
      "Yikes! Skipping number: 1\n",
      "3\n",
      "5\n",
      "7\n",
      "9\n",
      "11\n",
      "13\n",
      "15\n",
      "17\n",
      "19\n",
      "21\n",
      "23\n",
      "25\n",
      "27\n",
      "29\n",
      "31\n",
      "33\n",
      "35\n",
      "37\n",
      "39\n",
      "41\n",
      "43\n",
      "45\n",
      "47\n",
      "49\n"
     ]
    }
   ],
   "source": [
    "# prompt user for an odd number between 1 and 50\n",
    "# use a loop and a break statement to continue prompting the user\n",
    "# if they enter an invalid input (hint: isdigit)\n",
    "# use a loop and a continue statement to print all odd numbers \n",
    "# between 1 and 50, skipping the number the user entered\n",
    "\n",
    "# we are using a break statement to stop the while loop\n",
    "# so, it will run indefinitely unless we meet the break conditions\n",
    "while True:\n",
    "    # ask for user input\n",
    "    user_input = input(\"Please enter an odd integer between 1 and 50: \")\n",
    "\n",
    "    # isdigit() returns true for positive integers\n",
    "    if user_input.isdigit():\n",
    "        n = int(user_input)\n",
    "\n",
    "        # test if n is within range and odd\n",
    "        if (n <= 0) or (n >= 50) or (n % 2 != 1): \n",
    "            print(\"Invalid input (not odd or not in range 1-50)\")\n",
    "        else: \n",
    "            break\n",
    "\n",
    "    # if isdigit() returned false, give the user feedback\n",
    "    else:\n",
    "        print(\"Invalid Input (not a positive integer)\")\n",
    "\n",
    "i = 1\n",
    "while i < 50:\n",
    "    if i == n:\n",
    "        print(\"Yikes! Skipping number:\", n)\n",
    "    else:\n",
    "        print(i)\n",
    "    i += 2\n",
    "        "
   ]
  },
  {
   "cell_type": "code",
   "execution_count": 6,
   "id": "7b22f57e",
   "metadata": {},
   "outputs": [
    {
     "name": "stdout",
     "output_type": "stream",
     "text": [
      "1\n",
      "2\n",
      "Fizz\n",
      "4\n",
      "Buzz\n",
      "Fizz\n",
      "7\n",
      "8\n",
      "Fizz\n",
      "Buzz\n",
      "11\n",
      "Fizz\n",
      "13\n",
      "14\n",
      "FizzBuzz\n",
      "16\n",
      "17\n",
      "Fizz\n",
      "19\n",
      "Buzz\n",
      "Fizz\n",
      "22\n",
      "23\n",
      "Fizz\n",
      "Buzz\n",
      "26\n",
      "Fizz\n",
      "28\n",
      "29\n",
      "FizzBuzz\n",
      "31\n",
      "32\n",
      "Fizz\n",
      "34\n",
      "Buzz\n",
      "Fizz\n",
      "37\n",
      "38\n",
      "Fizz\n",
      "Buzz\n",
      "41\n",
      "Fizz\n",
      "43\n",
      "44\n",
      "FizzBuzz\n",
      "46\n",
      "47\n",
      "Fizz\n",
      "49\n",
      "Buzz\n",
      "Fizz\n",
      "52\n",
      "53\n",
      "Fizz\n",
      "Buzz\n",
      "56\n",
      "Fizz\n",
      "58\n",
      "59\n",
      "FizzBuzz\n",
      "61\n",
      "62\n",
      "Fizz\n",
      "64\n",
      "Buzz\n",
      "Fizz\n",
      "67\n",
      "68\n",
      "Fizz\n",
      "Buzz\n",
      "71\n",
      "Fizz\n",
      "73\n",
      "74\n",
      "FizzBuzz\n",
      "76\n",
      "77\n",
      "Fizz\n",
      "79\n",
      "Buzz\n",
      "Fizz\n",
      "82\n",
      "83\n",
      "Fizz\n",
      "Buzz\n",
      "86\n",
      "Fizz\n",
      "88\n",
      "89\n",
      "FizzBuzz\n",
      "91\n",
      "92\n",
      "Fizz\n",
      "94\n",
      "Buzz\n",
      "Fizz\n",
      "97\n",
      "98\n",
      "Fizz\n",
      "Buzz\n"
     ]
    }
   ],
   "source": [
    "# FizzBuzz test\n",
    "for i in range(1,101):\n",
    "    if i % 3 == 0:\n",
    "        if i % 5 == 0:\n",
    "            print(\"FizzBuzz\")\n",
    "            continue\n",
    "        else: \n",
    "            print(\"Fizz\")\n",
    "            continue\n",
    "    if i % 5 == 0:\n",
    "        print(\"Buzz\")\n",
    "        continue\n",
    "    print(i)\n",
    "    \n",
    "    "
   ]
  },
  {
   "cell_type": "code",
   "execution_count": 22,
   "id": "cdb3aaaf",
   "metadata": {},
   "outputs": [
    {
     "name": "stdout",
     "output_type": "stream",
     "text": [
      "What number would you like to go up to? 5\n",
      "Here is your table!\n",
      "\n",
      "number | squared | cubed\n",
      "------ | ------- | -----\n",
      "1      | 1       | 1    \n",
      "2      | 4       | 8    \n",
      "3      | 9       | 27   \n",
      "4      | 16      | 64   \n",
      "5      | 25      | 125  \n",
      "Would you like to continue? (Y/N) y\n",
      "What number would you like to go up to? 4\n",
      "Here is your table!\n",
      "\n",
      "number | squared | cubed\n",
      "------ | ------- | -----\n",
      "1      | 1       | 1    \n",
      "2      | 4       | 8    \n",
      "3      | 9       | 27   \n",
      "4      | 16      | 64   \n",
      "Would you like to continue? (Y/N) n\n"
     ]
    }
   ],
   "source": [
    "while True:\n",
    "    user_input = int(input(\"What number would you like to go up to? \"))\n",
    "    print(\"Here is your table!\")\n",
    "    print()\n",
    "    print(\"number | squared | cubed\")\n",
    "    print(\"------ | ------- | -----\")\n",
    "    for i in range(1,user_input+1):\n",
    "        print('{:<6d}'.format(i), \n",
    "              \"|\", '{:<7d}'.format(i ** 2), \n",
    "              \"|\", '{:<5}'.format(i ** 3)\n",
    "             )\n",
    "    is_continue = input(\"Would you like to continue? (Y/N) \")\n",
    "    if is_continue.lower() != 'y':\n",
    "        break"
   ]
  },
  {
   "cell_type": "code",
   "execution_count": 28,
   "id": "c0416b1f",
   "metadata": {},
   "outputs": [
    {
     "name": "stdout",
     "output_type": "stream",
     "text": [
      "Please enter the student's numerical grade (0-100): 100\n",
      "A+\n",
      "Continue? (Y/N)y\n",
      "Please enter the student's numerical grade (0-100): 101\n",
      "Continue? (Y/N)y\n",
      "Please enter the student's numerical grade (0-100): 67\n",
      "C-\n",
      "Continue? (Y/N)n\n"
     ]
    }
   ],
   "source": [
    "# ask for input (0-100) and display appropriate letter grade\n",
    "# associated with input. assume valid integer inputs\n",
    "while True: \n",
    "    user_input = int(input(\"Please enter the student's numerical grade (0-100): \"))\n",
    "    while True:\n",
    "        if user_input <= 59: \n",
    "            print('F')\n",
    "            break\n",
    "        if user_input <= 61: \n",
    "            print('D-')\n",
    "            break\n",
    "        if user_input <= 64: \n",
    "            print('D')\n",
    "            break\n",
    "        if user_input <= 66: \n",
    "            print('D+')\n",
    "            break\n",
    "        if user_input <= 68: \n",
    "            print('C-')\n",
    "            break\n",
    "        if user_input <= 77: \n",
    "            print('C')\n",
    "            break\n",
    "        if user_input <= 79: \n",
    "            print('C+')\n",
    "            break\n",
    "        if user_input <= 81: \n",
    "            print('B-')\n",
    "            break\n",
    "        if user_input <= 85: \n",
    "            print('B')\n",
    "            break\n",
    "        if user_input <= 87: \n",
    "            print('B+')\n",
    "            break\n",
    "        if user_input <= 89: \n",
    "            print('A-')\n",
    "            break\n",
    "        if user_input <= 98: \n",
    "            print('A')\n",
    "            break\n",
    "        if user_input <= 100: \n",
    "            print('A+')\n",
    "            break\n",
    "        break\n",
    "    is_continue = (input(\"Continue? (Y/N)\"))\n",
    "    if is_continue.lower() != 'y':\n",
    "        break\n"
   ]
  },
  {
   "cell_type": "code",
   "execution_count": 46,
   "id": "6463c429",
   "metadata": {},
   "outputs": [
    {
     "name": "stdout",
     "output_type": "stream",
     "text": [
      "Title:   Lillith's Brood\n",
      "Author:  Octavia Butler\n",
      "Genre:   Science Fiction\n",
      "\n",
      "Title:   Glucose Revolution\n",
      "Author:  Jessica Inchauspe\n",
      "Genre:   Self Help\n",
      "\n",
      "Title:   Dare to Lead\n",
      "Author:  Brene Brown\n",
      "Genre:   Leadership\n",
      "\n",
      "Title:   Devolution: A Firsthand Account of the Ranier Sasquatch Massacre\n",
      "Author:  Max Brooks\n",
      "Genre:   Fiction\n",
      "\n",
      "Title:   The Ploughmen\n",
      "Author:  Kim Zupan\n",
      "Genre:   Fiction\n",
      "\n",
      "Enter a genre: Fiction\n",
      "\n",
      "Title:   Devolution: A Firsthand Account of the Ranier Sasquatch Massacre\n",
      "Author:  Max Brooks\n",
      "Genre:   Fiction\n",
      "\n",
      "Title:   The Ploughmen\n",
      "Author:  Kim Zupan\n",
      "Genre:   Fiction\n",
      "\n",
      "Continue? Y/N y\n",
      "\n",
      "Enter a genre: Leadership\n",
      "\n",
      "Title:   Dare to Lead\n",
      "Author:  Brene Brown\n",
      "Genre:   Leadership\n",
      "\n",
      "Continue? Y/N n\n",
      "\n"
     ]
    }
   ],
   "source": [
    "# create a list of dictionaries\n",
    "# each dictionary represents a book\n",
    "# each dictionary will have keys: title, author, genre\n",
    "# loop through the list and print out info about each book\n",
    "d1 = {'title': \"Lillith's Brood\",\n",
    "      'author': \"Octavia Butler\",\n",
    "      'genre': \"Science Fiction\"}\n",
    "d2 = {'title': \"Glucose Revolution\",\n",
    "      'author': \"Jessica Inchauspe\",\n",
    "      'genre': \"Self Help\"}\n",
    "d3 = {'title': \"Dare to Lead\",\n",
    "      'author': \"Brene Brown\",\n",
    "      'genre': \"Leadership\"}\n",
    "d4 = {'title': \"Devolution: A Firsthand Account of the Ranier Sasquatch Massacre\",\n",
    "      'author': \"Max Brooks\",\n",
    "      'genre': \"Fiction\"}\n",
    "d5 = {'title': \"The Ploughmen\",\n",
    "      'author': \"Kim Zupan\",\n",
    "      'genre': \"Fiction\"}\n",
    "\n",
    "ls = [d1, d2, d3, d4, d5]\n",
    "\n",
    "for book in ls:\n",
    "    print(\"Title:  \", book['title'])\n",
    "    print(\"Author: \", book['author'])\n",
    "    print(\"Genre:  \", book['genre'])\n",
    "    print()\n",
    "    \n",
    "while True:\n",
    "    user_input = input(\"Enter a genre: \")\n",
    "    for book in ls:\n",
    "        if book['genre'] == user_input:\n",
    "            print()\n",
    "            print(\"Title:  \", book['title'])\n",
    "            print(\"Author: \", book['author'])\n",
    "            print(\"Genre:  \", book['genre'])\n",
    "    print()        \n",
    "    is_continue = input(\"Continue? Y/N \")\n",
    "    print()\n",
    "    if is_continue.lower() != 'y':\n",
    "        break"
   ]
  },
  {
   "cell_type": "code",
   "execution_count": 18,
   "id": "d0c22f46",
   "metadata": {},
   "outputs": [
    {
     "data": {
      "text/plain": [
       "[1, 3, 5, 7, 9]"
      ]
     },
     "execution_count": 18,
     "metadata": {},
     "output_type": "execute_result"
    }
   ],
   "source": [
    "new_list = [x for x in range(1,10,2)]\n",
    "new_list"
   ]
  },
  {
   "cell_type": "code",
   "execution_count": 33,
   "id": "fae0c452",
   "metadata": {},
   "outputs": [
    {
     "data": {
      "text/plain": [
       "'Skip this number: 7'"
      ]
     },
     "execution_count": 33,
     "metadata": {},
     "output_type": "execute_result"
    }
   ],
   "source": [
    "f'Skip this number: {7}'"
   ]
  },
  {
   "cell_type": "code",
   "execution_count": null,
   "id": "777fa149",
   "metadata": {},
   "outputs": [],
   "source": []
  }
 ],
 "metadata": {
  "kernelspec": {
   "display_name": "Python 3 (ipykernel)",
   "language": "python",
   "name": "python3"
  },
  "language_info": {
   "codemirror_mode": {
    "name": "ipython",
    "version": 3
   },
   "file_extension": ".py",
   "mimetype": "text/x-python",
   "name": "python",
   "nbconvert_exporter": "python",
   "pygments_lexer": "ipython3",
   "version": "3.9.13"
  }
 },
 "nbformat": 4,
 "nbformat_minor": 5
}
