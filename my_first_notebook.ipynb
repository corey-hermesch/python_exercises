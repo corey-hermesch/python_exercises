{
 "cells": [
  {
   "cell_type": "code",
   "execution_count": 2,
   "id": "17105169",
   "metadata": {},
   "outputs": [],
   "source": [
    "x = 2+2\n",
    "y = 3+3\n",
    "z = 4*3-2*6"
   ]
  },
  {
   "cell_type": "code",
   "execution_count": 3,
   "id": "a6f1187c",
   "metadata": {},
   "outputs": [
    {
     "data": {
      "text/plain": [
       "4"
      ]
     },
     "execution_count": 3,
     "metadata": {},
     "output_type": "execute_result"
    }
   ],
   "source": [
    "x"
   ]
  },
  {
   "cell_type": "code",
   "execution_count": 4,
   "id": "4b5caf42",
   "metadata": {},
   "outputs": [
    {
     "data": {
      "text/plain": [
       "6"
      ]
     },
     "execution_count": 4,
     "metadata": {},
     "output_type": "execute_result"
    }
   ],
   "source": [
    "y"
   ]
  },
  {
   "cell_type": "code",
   "execution_count": 5,
   "id": "392f79b1",
   "metadata": {
    "scrolled": true
   },
   "outputs": [
    {
     "data": {
      "text/plain": [
       "0"
      ]
     },
     "execution_count": 5,
     "metadata": {},
     "output_type": "execute_result"
    }
   ],
   "source": [
    "z"
   ]
  },
  {
   "cell_type": "code",
   "execution_count": 4,
   "id": "caecf7e3",
   "metadata": {},
   "outputs": [
    {
     "name": "stdout",
     "output_type": "stream",
     "text": [
      "What's the difference between a rental car and a tank?\n",
      "\n",
      "A RENTAL car... can go ANYWHERE\n"
     ]
    }
   ],
   "source": [
    "joke_question = 'What\\'s the difference between a rental car and a tank?'\n",
    "joke_answer = 'A RENTAL car... can go ANYWHERE'\n",
    "print (joke_question)\n",
    "print ()\n",
    "print (joke_answer)"
   ]
  },
  {
   "cell_type": "code",
   "execution_count": null,
   "id": "cd48937b",
   "metadata": {},
   "outputs": [],
   "source": [
    "# One shortcut is to use shift+Enter to run a cell\n",
    "# Click to the left of a cell to highlight it, then x to cut, c to copy, v to past, z to undo, \n",
    "# a to insert a cell above, b to insert a cell below, d,d to delete"
   ]
  }
 ],
 "metadata": {
  "kernelspec": {
   "display_name": "Python 3 (ipykernel)",
   "language": "python",
   "name": "python3"
  },
  "language_info": {
   "codemirror_mode": {
    "name": "ipython",
    "version": 3
   },
   "file_extension": ".py",
   "mimetype": "text/x-python",
   "name": "python",
   "nbconvert_exporter": "python",
   "pygments_lexer": "ipython3",
   "version": "3.9.13"
  }
 },
 "nbformat": 4,
 "nbformat_minor": 5
}
