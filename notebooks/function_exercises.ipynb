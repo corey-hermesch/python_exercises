{
 "cells": [
  {
   "cell_type": "code",
   "execution_count": 59,
   "id": "aeb7b816-51ce-497d-9d4c-b8555fa5cab8",
   "metadata": {},
   "outputs": [
    {
     "name": "stdout",
     "output_type": "stream",
     "text": [
      "True\n",
      "False\n",
      "False\n",
      "False\n"
     ]
    }
   ],
   "source": [
    "#1. define a function is_two, input a string or number; \n",
    "# return True if it is '2', 2, 2.0\n",
    "def is_two(a):\n",
    "    # if a is a float, we need to test if it is 2.0 or 2.1 or 2.x\n",
    "    if type(a) == float:\n",
    "        # 2.1 % 2 == .1 and will return False, but 2.0 % 2 == 0 and \n",
    "        # will pass thru to the return statement\n",
    "        if a % 2 != 0: return False\n",
    "    # return the condition (True or False) that results from int(a) == 2\n",
    "    return int(a) == 2\n",
    "\n",
    "print(is_two(2))\n",
    "print(is_two(0))\n",
    "print(is_two(-1))\n",
    "print(is_two(2.5))"
   ]
  },
  {
   "cell_type": "code",
   "execution_count": 54,
   "id": "106cbb39-5304-4cb4-8e33-11f1fc32b9c7",
   "metadata": {},
   "outputs": [
    {
     "name": "stdout",
     "output_type": "stream",
     "text": [
      "True\n",
      "False\n",
      "False\n"
     ]
    }
   ],
   "source": [
    "#1 with lambda function without taking the float case into account\n",
    "is_two = lambda a: int(a) == 2\n",
    "\n",
    "print(is_two(2))\n",
    "print(is_two(0))\n",
    "print(is_two(-1))"
   ]
  },
  {
   "cell_type": "code",
   "execution_count": 10,
   "id": "2e63ae63-cb81-4827-85d9-6844172781af",
   "metadata": {},
   "outputs": [
    {
     "name": "stdout",
     "output_type": "stream",
     "text": [
      "True\n",
      "True\n",
      "False\n"
     ]
    }
   ],
   "source": [
    "#2. define function is_vowel, assume letter input\n",
    "def is_vowel(a):\n",
    "    return a.lower() in \"aeiou\"\n",
    "\n",
    "print(is_vowel('a'))\n",
    "print(is_vowel('A'))\n",
    "print(is_vowel('x'))\n"
   ]
  },
  {
   "cell_type": "code",
   "execution_count": 11,
   "id": "b1c5d53c-fc22-41f1-9311-814215c822f0",
   "metadata": {},
   "outputs": [
    {
     "name": "stdout",
     "output_type": "stream",
     "text": [
      "False\n",
      "True\n"
     ]
    }
   ],
   "source": [
    "#3 define is_consonant, use is_vowel, assume letter input\n",
    "def is_consonant(a):\n",
    "    return not is_vowel(a)\n",
    "\n",
    "print(is_consonant('a'))\n",
    "print(is_consonant('b'))"
   ]
  },
  {
   "cell_type": "code",
   "execution_count": 13,
   "id": "4b363148-f995-42ab-8051-0a8bb8696ad4",
   "metadata": {},
   "outputs": [
    {
     "name": "stdout",
     "output_type": "stream",
     "text": [
      "Hello\n",
      "ello\n",
      "allo\n"
     ]
    }
   ],
   "source": [
    "#4 define function to capitalize first letter of a word if the letter is a consonant\n",
    "def cap_first_consonant(word):\n",
    "    if is_consonant(word[0]):\n",
    "        return word.title()\n",
    "    else:\n",
    "        return word\n",
    "\n",
    "print(cap_first_consonant(\"hello\"))\n",
    "print(cap_first_consonant(\"ello\"))\n",
    "print(cap_first_consonant(\"allo\"))"
   ]
  },
  {
   "cell_type": "code",
   "execution_count": 14,
   "id": "e5509295-d13c-4065-af5b-0fe971c5f6f7",
   "metadata": {},
   "outputs": [
    {
     "name": "stdout",
     "output_type": "stream",
     "text": [
      "20.0\n"
     ]
    }
   ],
   "source": [
    "#5 define calculate_tip; inputs are tip percent (decimal) and total bill; return amount to tip\n",
    "def calculate_tip (percent, total):\n",
    "    return total * percent\n",
    "\n",
    "print (calculate_tip(.2, 100))"
   ]
  },
  {
   "cell_type": "code",
   "execution_count": 16,
   "id": "ccda9b0f-220b-45f4-8cf9-28461e378957",
   "metadata": {},
   "outputs": [
    {
     "name": "stdout",
     "output_type": "stream",
     "text": [
      "80.0\n"
     ]
    }
   ],
   "source": [
    "#6 define apply_discount; inputs are original price and discount % (decimal);\n",
    "#  returns price after discount has been applied\n",
    "def apply_discount(price, discount):\n",
    "    return price - (price * discount)\n",
    "\n",
    "print (apply_discount(100, .2))"
   ]
  },
  {
   "cell_type": "code",
   "execution_count": 20,
   "id": "81174638-b331-4495-80d7-c9c91a81f609",
   "metadata": {},
   "outputs": [
    {
     "name": "stdout",
     "output_type": "stream",
     "text": [
      "100101200\n"
     ]
    }
   ],
   "source": [
    "#7 define handle_commas; input is string that is a number with commas; return number\n",
    "def handle_commas(num_string):\n",
    "    return int(num_string.replace(',',''))\n",
    "\n",
    "print(handle_commas('100,101,200'))"
   ]
  },
  {
   "cell_type": "code",
   "execution_count": 22,
   "id": "bc056dbd-04d4-4152-89e6-1c7ef8442622",
   "metadata": {},
   "outputs": [
    {
     "name": "stdout",
     "output_type": "stream",
     "text": [
      "F\n",
      "D\n",
      "A\n"
     ]
    }
   ],
   "source": [
    "#8 define function get_letter_grade; input number (0-100); return letter grade (A-F)\n",
    "def get_letter_grade(x):\n",
    "    if x >= 90: return 'A'\n",
    "    if x >= 80: return 'B'\n",
    "    if x >= 70: return 'C'\n",
    "    if x >= 60: return 'D'\n",
    "    return 'F'\n",
    "\n",
    "print(get_letter_grade(55))\n",
    "print(get_letter_grade(67))\n",
    "print(get_letter_grade(90))"
   ]
  },
  {
   "cell_type": "code",
   "execution_count": 31,
   "id": "87f1a7a6-4802-4e1c-96b2-12b341dde531",
   "metadata": {},
   "outputs": [
    {
     "name": "stdout",
     "output_type": "stream",
     "text": [
      "lttr\n"
     ]
    }
   ],
   "source": [
    "#9 define remove_vowels; input string; return string with all vowels removed\n",
    "def remove_vowels(word):\n",
    "    cons_list = [c for c in word if is_consonant(c)]\n",
    "    new_word = ''\n",
    "    for c in cons_list:\n",
    "        new_word += c\n",
    "    return new_word\n",
    "\n",
    "print(remove_vowels('letter'))"
   ]
  },
  {
   "cell_type": "code",
   "execution_count": 53,
   "id": "49abf9fe-7ad3-41bd-b788-ee65b57089cc",
   "metadata": {},
   "outputs": [
    {
     "name": "stdout",
     "output_type": "stream",
     "text": [
      "sev31_dk\n"
     ]
    }
   ],
   "source": [
    "#10 def normalize_name; input string, return valid python identifier such that:\n",
    "# remove leading/trailing whitespace, spaces become underscores, all lowercase\n",
    "# for example Name becomes name, First Name becomes first_name, % completed becomes completed\n",
    "def normalize_name(input_name):\n",
    "    input_name = input_name.strip()\n",
    "    chars_to_remove = \"!@#$%^&*()+=[]{}|/\\,:;.`~\"\n",
    "    for c in chars_to_remove:\n",
    "        input_name = input_name.replace(c, \"\")\n",
    "    input_name = input_name.replace(' ', '_')\n",
    "    return input_name.lower()\n",
    "\n",
    "test = \"   sev%&3@@1 dK())\"\n",
    "print(normalize_name(test))"
   ]
  },
  {
   "cell_type": "code",
   "execution_count": 50,
   "id": "0b6e89b0-251e-4032-ae95-8eeb2f79ceea",
   "metadata": {},
   "outputs": [
    {
     "name": "stdout",
     "output_type": "stream",
     "text": [
      "[1, 3, 6, 10]\n",
      "[-4, -4, 0, 100]\n"
     ]
    }
   ],
   "source": [
    "#11 def cumulative_sum; input list of numbers; return a list of \"cumulative sums\" such that\n",
    "# cumulative_sum([1,1,1]) returns [1,2,3]\n",
    "# cumulative_sum([1,2,3,4]) returns [1,3,6,10]\n",
    "\n",
    "def cumulative_sum(num_list):\n",
    "    new_list = []\n",
    "    cum_sum = 0\n",
    "    for x in num_list:\n",
    "        new_list.append(x + cum_sum)\n",
    "        cum_sum += x\n",
    "    return new_list\n",
    "\n",
    "num_list = [1,2,3,4]\n",
    "test_list = [-4, 0, 4, 100]\n",
    "print(cumulative_sum(num_list))\n",
    "print(cumulative_sum(test_list))"
   ]
  },
  {
   "cell_type": "code",
   "execution_count": null,
   "id": "10f32023-30e2-4476-af45-5fcce724f7c8",
   "metadata": {},
   "outputs": [],
   "source": []
  }
 ],
 "metadata": {
  "kernelspec": {
   "display_name": "Python 3 (ipykernel)",
   "language": "python",
   "name": "python3"
  },
  "language_info": {
   "codemirror_mode": {
    "name": "ipython",
    "version": 3
   },
   "file_extension": ".py",
   "mimetype": "text/x-python",
   "name": "python",
   "nbconvert_exporter": "python",
   "pygments_lexer": "ipython3",
   "version": "3.9.13"
  }
 },
 "nbformat": 4,
 "nbformat_minor": 5
}
