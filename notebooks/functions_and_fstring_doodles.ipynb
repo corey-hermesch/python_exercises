{
 "cells": [
  {
   "cell_type": "code",
   "execution_count": 6,
   "id": "fe854527-9175-4b21-857a-009122f6567e",
   "metadata": {},
   "outputs": [],
   "source": [
    "name = \"Hello, World\""
   ]
  },
  {
   "cell_type": "code",
   "execution_count": 23,
   "id": "bc9f660b-7c8a-430c-bddf-304e79323e2c",
   "metadata": {},
   "outputs": [
    {
     "data": {
      "text/plain": [
       "'        HELLO, WORLD!!!'"
      ]
     },
     "execution_count": 23,
     "metadata": {},
     "output_type": "execute_result"
    }
   ],
   "source": [
    "f'{name.upper() : >20}!!!'"
   ]
  },
  {
   "cell_type": "code",
   "execution_count": 24,
   "id": "a76477ee-8bbe-4af6-9fa7-b211581bcf31",
   "metadata": {},
   "outputs": [
    {
     "data": {
      "text/plain": [
       "'    HELLO, WORLD    !!!'"
      ]
     },
     "execution_count": 24,
     "metadata": {},
     "output_type": "execute_result"
    }
   ],
   "source": [
    "f'{name.upper() : ^20}!!!'"
   ]
  },
  {
   "cell_type": "code",
   "execution_count": 21,
   "id": "7923fab3-f0f1-4a67-a216-f94623254526",
   "metadata": {},
   "outputs": [
    {
     "data": {
      "text/plain": [
       "'  HELLO, WORLD!!!   '"
      ]
     },
     "execution_count": 21,
     "metadata": {},
     "output_type": "execute_result"
    }
   ],
   "source": [
    "f\"{(name.upper() + '!!!') : ^20}\""
   ]
  },
  {
   "cell_type": "code",
   "execution_count": 28,
   "id": "3f69dee7-e52b-45ba-847f-64f69233fa35",
   "metadata": {},
   "outputs": [
    {
     "data": {
      "text/plain": [
       "'HELLO, WORLD                 hello, world'"
      ]
     },
     "execution_count": 28,
     "metadata": {},
     "output_type": "execute_result"
    }
   ],
   "source": [
    "f\"{name.upper() : <20} {name.lower() : >20}\""
   ]
  },
  {
   "cell_type": "code",
   "execution_count": 29,
   "id": "dbf7296f-bb90-4edd-b16d-50f7e3e2ec4f",
   "metadata": {},
   "outputs": [],
   "source": [
    "def do_this(a=7, b=21):\n",
    "    return a+1, b-10\n"
   ]
  },
  {
   "cell_type": "code",
   "execution_count": 30,
   "id": "53455a05-4704-4e06-b1fe-0696d64b303e",
   "metadata": {},
   "outputs": [
    {
     "data": {
      "text/plain": [
       "(8, 11)"
      ]
     },
     "execution_count": 30,
     "metadata": {},
     "output_type": "execute_result"
    }
   ],
   "source": [
    "do_this()"
   ]
  },
  {
   "cell_type": "code",
   "execution_count": 31,
   "id": "eb7ac9f6-8db0-401b-9a9f-3e674f657075",
   "metadata": {},
   "outputs": [
    {
     "data": {
      "text/plain": [
       "(6, 0)"
      ]
     },
     "execution_count": 31,
     "metadata": {},
     "output_type": "execute_result"
    }
   ],
   "source": [
    "do_this(5, 10)"
   ]
  },
  {
   "cell_type": "code",
   "execution_count": 32,
   "id": "153e5725-20d5-4c24-866c-c890d64a2aba",
   "metadata": {
    "tags": []
   },
   "outputs": [
    {
     "data": {
      "text/plain": [
       "3.0"
      ]
     },
     "execution_count": 32,
     "metadata": {},
     "output_type": "execute_result"
    }
   ],
   "source": [
    "27 ** (1/3)\n"
   ]
  },
  {
   "cell_type": "code",
   "execution_count": 33,
   "id": "0e220b43-81fa-43ba-b588-b76c82dcef01",
   "metadata": {
    "jupyter": {
     "source_hidden": true
    },
    "tags": []
   },
   "outputs": [
    {
     "data": {
      "text/plain": [
       "2.0"
      ]
     },
     "execution_count": 33,
     "metadata": {},
     "output_type": "execute_result"
    }
   ],
   "source": [
    "16 ** .25"
   ]
  },
  {
   "cell_type": "code",
   "execution_count": 34,
   "id": "a5f8960f-f9ef-4f32-aea0-e7469c5afae3",
   "metadata": {},
   "outputs": [],
   "source": [
    "plus_one = lambda n: n + 1"
   ]
  },
  {
   "cell_type": "code",
   "execution_count": 36,
   "id": "ff3ae355-c7d0-45eb-925e-ef86bab6b23e",
   "metadata": {},
   "outputs": [
    {
     "data": {
      "text/plain": [
       "6"
      ]
     },
     "execution_count": 36,
     "metadata": {},
     "output_type": "execute_result"
    }
   ],
   "source": [
    "plus_one(5)\n"
   ]
  },
  {
   "cell_type": "code",
   "execution_count": 45,
   "id": "800de9c0-aa14-4ad4-8092-d784f57fc513",
   "metadata": {},
   "outputs": [],
   "source": [
    "do_that = lambda x=1,y=2: (x+1, y-10)"
   ]
  },
  {
   "cell_type": "code",
   "execution_count": 46,
   "id": "28f1cc9d-8442-48f1-98c1-282c35c0a88c",
   "metadata": {},
   "outputs": [
    {
     "data": {
      "text/plain": [
       "(6, 0)"
      ]
     },
     "execution_count": 46,
     "metadata": {},
     "output_type": "execute_result"
    }
   ],
   "source": [
    "do_that(5,10)"
   ]
  },
  {
   "cell_type": "code",
   "execution_count": 47,
   "id": "2e32c9d3-ceb0-40b6-b569-becfb14924f6",
   "metadata": {
    "jupyter": {
     "source_hidden": true
    },
    "tags": []
   },
   "outputs": [
    {
     "data": {
      "text/plain": [
       "(2, -8)"
      ]
     },
     "execution_count": 47,
     "metadata": {},
     "output_type": "execute_result"
    }
   ],
   "source": [
    "do_that()"
   ]
  },
  {
   "cell_type": "code",
   "execution_count": null,
   "id": "07e1cde0-309c-44b3-9745-b606ad2366d4",
   "metadata": {},
   "outputs": [],
   "source": []
  }
 ],
 "metadata": {
  "kernelspec": {
   "display_name": "Python 3 (ipykernel)",
   "language": "python",
   "name": "python3"
  },
  "language_info": {
   "codemirror_mode": {
    "name": "ipython",
    "version": 3
   },
   "file_extension": ".py",
   "mimetype": "text/x-python",
   "name": "python",
   "nbconvert_exporter": "python",
   "pygments_lexer": "ipython3",
   "version": "3.9.13"
  }
 },
 "nbformat": 4,
 "nbformat_minor": 5
}
