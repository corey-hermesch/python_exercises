{
 "cells": [
  {
   "cell_type": "code",
   "execution_count": 1,
   "id": "8f8ae4a2",
   "metadata": {},
   "outputs": [
    {
     "name": "stdout",
     "output_type": "stream",
     "text": [
      "True\n",
      "False\n",
      "False\n",
      "False\n",
      "True\n",
      "True\n",
      "False\n",
      "False\n",
      "True\n",
      "False\n",
      "False\n",
      "True\n",
      "True\n",
      "False\n",
      "False\n",
      "True\n",
      "Hello\n",
      "ello\n",
      "allo\n",
      "20.0\n",
      "80.0\n",
      "100101200\n",
      "F\n",
      "D\n",
      "A\n",
      "lttr\n",
      "sev31_dk\n",
      "[1, 3, 6, 10]\n",
      "[-4, -4, 0, 100]\n"
     ]
    }
   ],
   "source": [
    "# 1a. import the function_exercises module\n",
    "import function_exercises as fe"
   ]
  },
  {
   "cell_type": "code",
   "execution_count": 2,
   "id": "5e317213",
   "metadata": {},
   "outputs": [
    {
     "data": {
      "text/plain": [
       "True"
      ]
     },
     "execution_count": 2,
     "metadata": {},
     "output_type": "execute_result"
    }
   ],
   "source": [
    "# 1a. call is_vowel using the . syntax\n",
    "fe.is_vowel('a')"
   ]
  },
  {
   "cell_type": "code",
   "execution_count": 3,
   "id": "0835e222",
   "metadata": {},
   "outputs": [],
   "source": [
    "# 1b. use from to import calculate_tip function\n",
    "from function_exercises import calculate_tip"
   ]
  },
  {
   "cell_type": "code",
   "execution_count": 4,
   "id": "006c0d77",
   "metadata": {},
   "outputs": [
    {
     "data": {
      "text/plain": [
       "20.0"
      ]
     },
     "execution_count": 4,
     "metadata": {},
     "output_type": "execute_result"
    }
   ],
   "source": [
    "# 1b. call calc_tip\n",
    "calculate_tip(.2, 100)"
   ]
  },
  {
   "cell_type": "code",
   "execution_count": 5,
   "id": "032c8d90",
   "metadata": {},
   "outputs": [],
   "source": [
    "# 1c. use from to import get_letter_grade and give it an alias\n",
    "from function_exercises import get_letter_grade as get_lg"
   ]
  },
  {
   "cell_type": "code",
   "execution_count": 6,
   "id": "d2b10b3c",
   "metadata": {},
   "outputs": [
    {
     "data": {
      "text/plain": [
       "'A'"
      ]
     },
     "execution_count": 6,
     "metadata": {},
     "output_type": "execute_result"
    }
   ],
   "source": [
    "# 1c. test get_lg\n",
    "get_lg(99)"
   ]
  },
  {
   "cell_type": "code",
   "execution_count": 7,
   "id": "6b18a88b",
   "metadata": {},
   "outputs": [],
   "source": [
    "#2. use itertools module\n",
    "import itertools as iter"
   ]
  },
  {
   "cell_type": "code",
   "execution_count": 16,
   "id": "1f9c27a9",
   "metadata": {},
   "outputs": [
    {
     "name": "stdout",
     "output_type": "stream",
     "text": [
      "There are 9 ways to combine 'abc' with either a 1, 2, or 3\n"
     ]
    }
   ],
   "source": [
    "#2.  Use the itertools modue from the python standard library. \n",
    "#2a. How many different ways can you combine a single letter from \"abc\"\n",
    "#    with either 1, 2, or 3\n",
    "\n",
    "# To just get the number of combinations multiply the number\n",
    "# of choices of 1 letter from 'abc' * the number of choices from '123'\n",
    "\n",
    "# obtain lists of possible 1-character permuations (in this case \n",
    "# combinations would also have worked since it is 1 character)\n",
    "x1 = list(iter.permutations('abc', 1))\n",
    "x2 = list(iter.permutations('123', 1))\n",
    "\n",
    "# multiply the length of x1 * the length of x2\n",
    "numb_combos = len(x1) * len(x2)\n",
    "print(\"There are\", numb_combos, \"ways to combine 'abc' with either a 1, 2, or 3\")\n"
   ]
  },
  {
   "cell_type": "code",
   "execution_count": 117,
   "id": "53b505d4",
   "metadata": {},
   "outputs": [
    {
     "name": "stdout",
     "output_type": "stream",
     "text": [
      "['a1', 'a2', 'a3', 'b1', 'b2', 'b3', 'c1', 'c2', 'c3']\n",
      "There are 9 ways to combine 'abc' with either a 1, 2, or 3\n"
     ]
    }
   ],
   "source": [
    "#2a. continued. In order to get a list with all the unique combinations \n",
    "# that start with a single letter from \"abc\" and combine with a 1, 2 or 3\n",
    "# we have to do some other work:\n",
    "\n",
    "# put a list of the 2-character permutations of 'abc123' in x3\n",
    "x3 = list(iter.permutations('abc123', 2))\n",
    "\n",
    "# x3 is now a list of tuples like [('a', 'b'), ac, a1, ...]\n",
    "# We are only interested in the combinations that start with a letter and \n",
    "# end with a number. So make a list of those strings\n",
    "combo_list = [t[0]+t[1] for t in x3 if t[0].isalpha() and t[1].isdigit()]\n",
    "\n",
    "# print the list for good measure and the length of the list which is the\n",
    "# answer we were looking for\n",
    "print(combo_list)\n",
    "print(\"There are\", len(combo_list), \"ways to combine 'abc' with either a 1, 2, or 3\")\n"
   ]
  },
  {
   "cell_type": "code",
   "execution_count": 28,
   "id": "a12091b0",
   "metadata": {},
   "outputs": [
    {
     "name": "stdout",
     "output_type": "stream",
     "text": [
      "There are 6 2-character combinations of 'abcd'.\n"
     ]
    },
    {
     "data": {
      "text/plain": [
       "[('a', 'b'), ('a', 'c'), ('a', 'd'), ('b', 'c'), ('b', 'd'), ('c', 'd')]"
      ]
     },
     "execution_count": 28,
     "metadata": {},
     "output_type": "execute_result"
    }
   ],
   "source": [
    "# 2b. How many different combinations are there of 2 letters from abcd?\n",
    "\n",
    "# use itertools.combinations function to create a list of combinations\n",
    "combo_list2 = list(iter.combinations('abcd', 2))\n",
    "# print the list for good measure and the length of the list which is our answer\n",
    "combo_list2\n",
    "print(\"There are\", len(combo_list2), \"2-character combinations of 'abcd'.\")\n"
   ]
  },
  {
   "cell_type": "code",
   "execution_count": 29,
   "id": "b90f0dd7",
   "metadata": {},
   "outputs": [
    {
     "name": "stdout",
     "output_type": "stream",
     "text": [
      "There are 12 2-character permutations of 'abcd'.\n"
     ]
    },
    {
     "data": {
      "text/plain": [
       "[('a', 'b'),\n",
       " ('a', 'c'),\n",
       " ('a', 'd'),\n",
       " ('b', 'a'),\n",
       " ('b', 'c'),\n",
       " ('b', 'd'),\n",
       " ('c', 'a'),\n",
       " ('c', 'b'),\n",
       " ('c', 'd'),\n",
       " ('d', 'a'),\n",
       " ('d', 'b'),\n",
       " ('d', 'c')]"
      ]
     },
     "execution_count": 29,
     "metadata": {},
     "output_type": "execute_result"
    }
   ],
   "source": [
    "# 2c. How many different permutations are there of 2 letters from \"abcd\"?\n",
    "\n",
    "# same logic as 2b\n",
    "combo_list3 = list(iter.permutations('abcd', 2))\n",
    "print(\"There are\", len(combo_list3), \"2-character permutations of 'abcd'.\")\n",
    "combo_list3"
   ]
  },
  {
   "cell_type": "code",
   "execution_count": 30,
   "id": "759a15c8",
   "metadata": {},
   "outputs": [],
   "source": [
    "#3 Save a file called profiles.json. import json and use the provided\n",
    "# code to load/open the text from profiles.json\n",
    "import json\n",
    "# bring in a list of dictionaries into profiles\n",
    "profiles = json.load(open('profiles.json'))"
   ]
  },
  {
   "cell_type": "code",
   "execution_count": 37,
   "id": "159ed027",
   "metadata": {},
   "outputs": [
    {
     "name": "stdout",
     "output_type": "stream",
     "text": [
      "Hebert Estes\n",
      "Allison Wynn\n",
      "Jacobs Floyd\n",
      "Fay Hammond\n",
      "Chasity Marsh\n",
      "Camacho Cortez\n",
      "Avery Flynn\n",
      "Michael Cash\n",
      "Madeleine Bray\n",
      "Corine French\n",
      "Trudy Cummings\n",
      "Peggy Mayer\n",
      "Chan Hurley\n",
      "Diaz Pena\n",
      "Heath Castaneda\n",
      "Greer Blankenship\n",
      "Coffey Hayes\n",
      "Leanne Hurst\n",
      "Ewing Larson\n"
     ]
    }
   ],
   "source": [
    "# just a quick look at the names before we start on the questions\n",
    "for profile in profiles:\n",
    "    print(profile['name'])"
   ]
  },
  {
   "cell_type": "code",
   "execution_count": 39,
   "id": "ec78af31",
   "metadata": {},
   "outputs": [
    {
     "name": "stdout",
     "output_type": "stream",
     "text": [
      "There are 19 users.\n"
     ]
    }
   ],
   "source": [
    "#3a: What is the total number of users?\n",
    "print(\"There are\", len(profiles), \"users.\")"
   ]
  },
  {
   "cell_type": "code",
   "execution_count": 43,
   "id": "916c0900",
   "metadata": {},
   "outputs": [
    {
     "name": "stdout",
     "output_type": "stream",
     "text": [
      "There are 9 active users.\n"
     ]
    }
   ],
   "source": [
    "#3b. What is the number of active users?\n",
    "\n",
    "# review what the keys are\n",
    "profiles[0].keys()\n",
    "# isActive is the key I need; confirm it is a boolean\n",
    "type(profiles[0]['isActive'])\n",
    "# initialize a count variable\n",
    "count_active = 0\n",
    "# use a for loop to count the number of times isActive is True\n",
    "for profile in profiles:\n",
    "    if profile['isActive']:\n",
    "        count_active += 1\n",
    "print(\"There are\", count_active, \"active users.\")"
   ]
  },
  {
   "cell_type": "code",
   "execution_count": 44,
   "id": "dbc44446",
   "metadata": {},
   "outputs": [
    {
     "name": "stdout",
     "output_type": "stream",
     "text": [
      "There are 10 inactive users.\n"
     ]
    }
   ],
   "source": [
    "#3c. What is the total number of inactive users?\n",
    "\n",
    "# same logic as 3b\n",
    "# initialize a count variable\n",
    "count_inactive = 0\n",
    "# use a for loop to count the number of times isActive is False\n",
    "for profile in profiles:\n",
    "    if not profile['isActive']:\n",
    "        count_inactive += 1\n",
    "print(\"There are\", count_inactive, \"inactive users.\")"
   ]
  },
  {
   "cell_type": "code",
   "execution_count": 53,
   "id": "39ad15d2",
   "metadata": {},
   "outputs": [
    {
     "data": {
      "text/plain": [
       "2097.02"
      ]
     },
     "execution_count": 53,
     "metadata": {},
     "output_type": "execute_result"
    }
   ],
   "source": [
    "#3d What is the grand total of balances for all users\n",
    "\n",
    "# review what the keys are\n",
    "profiles[0].keys()\n",
    "# balance is the key I need; confirm it is a float\n",
    "profiles[0]['balance']\n",
    "# it is a string <sigh>\n",
    "\n",
    "# define function to change string money to float\n",
    "def moneystr_to_dec(m_str):\n",
    "    m_var = ''\n",
    "    for c in m_str:\n",
    "        if c.isdigit() or c == '.':\n",
    "            m_var += c\n",
    "    return float(m_var)\n",
    "\n",
    "# test function\n",
    "moneystr_to_dec('$2,097.02')"
   ]
  },
  {
   "cell_type": "code",
   "execution_count": 119,
   "id": "bfa596fd",
   "metadata": {},
   "outputs": [
    {
     "name": "stdout",
     "output_type": "stream",
     "text": [
      "The grand total of balances is $52667.02.\n"
     ]
    }
   ],
   "source": [
    "#3d continued. What is the grand total of balances for all users\n",
    "\n",
    "# define a function to return the grand total\n",
    "# sum_balance takes in a list of dictionaries such that each \n",
    "# each dictionary in the list has a 'balance' key with a \n",
    "# string representing the balance (example '$2,079.22')\n",
    "def sum_balances(profiles):\n",
    "    # initialize a summing variable\n",
    "    total_balance = 0.0\n",
    "    # for each profile's balance, change it to a float and add it to total\n",
    "    for profile in profiles:\n",
    "        total_balance += moneystr_to_dec(profile['balance'])\n",
    "    return total_balance\n",
    "\n",
    "# I want to use fstring, so I put the sum in a variable grand_total\n",
    "grand_total = sum_balances(profiles)\n",
    "# print the answer\n",
    "print(f\"The grand total of balances is ${grand_total}.\")"
   ]
  },
  {
   "cell_type": "code",
   "execution_count": 120,
   "id": "6f823144",
   "metadata": {},
   "outputs": [
    {
     "name": "stdout",
     "output_type": "stream",
     "text": [
      "The average balance of all users is $2771.95.\n"
     ]
    }
   ],
   "source": [
    "#3e What is the average balance per user\n",
    "# use sum_balances function and divide by len of profiles\n",
    "avg_balance = round(sum_balances(profiles) / len(profiles), 2)\n",
    "print(f\"The average balance of all users is ${avg_balance}.\")"
   ]
  },
  {
   "cell_type": "code",
   "execution_count": 66,
   "id": "de75016d",
   "metadata": {},
   "outputs": [
    {
     "name": "stdout",
     "output_type": "stream",
     "text": [
      "The minimum balance of all users is Avery Flynn with $1214.1\n"
     ]
    }
   ],
   "source": [
    "#3f Who is the user with the lowest balance?\n",
    "\n",
    "min_balance = moneystr_to_dec(profiles[0]['balance'])\n",
    "min_b_user = profiles[0]['name']\n",
    "for profile in profiles:\n",
    "    n = moneystr_to_dec(profile['balance'])\n",
    "    if n < min_balance:\n",
    "        min_balance = n\n",
    "        min_b_user = profile['name']\n",
    "\n",
    "print (f\"The minimum balance of all users is {min_b_user} with ${min_balance}\")\n"
   ]
  },
  {
   "cell_type": "code",
   "execution_count": 67,
   "id": "5d6d003e",
   "metadata": {},
   "outputs": [
    {
     "name": "stdout",
     "output_type": "stream",
     "text": [
      "The maximum balance of all users is Fay Hammond with $3919.64\n"
     ]
    }
   ],
   "source": [
    "#3f Who is the user with the max balance?\n",
    "\n",
    "max_balance = moneystr_to_dec(profiles[0]['balance'])\n",
    "max_b_user = profiles[0]['name']\n",
    "for profile in profiles:\n",
    "    n = moneystr_to_dec(profile['balance'])\n",
    "    if n > max_balance:\n",
    "        max_balance = n\n",
    "        max_b_user = profile['name']\n",
    "\n",
    "print (f\"The maximum balance of all users is {max_b_user} with ${max_balance}\")"
   ]
  },
  {
   "cell_type": "code",
   "execution_count": 93,
   "id": "36ab2753",
   "metadata": {},
   "outputs": [],
   "source": [
    "#3g What is the most common favorite fruit\n",
    "# looks like pandas dataframe.mode will be useful, but I'll wait\n",
    "\n",
    "# define a function to return a list of fruits\n",
    "def make_fruit_list(profiles):\n",
    "    fruit_list = []\n",
    "    for profile in profiles:\n",
    "        fruit_list.append(profile['favoriteFruit'])\n",
    "    return fruit_list\n",
    "\n",
    "# define a function to return a list of lists of strings (fruits) and their count.\n",
    "# input is a list of strings. output list will look like this:\n",
    "# [['strawberry', 6], ['banana', 5], ...]\n",
    "\n",
    "def count_fruits(fruit_list):\n",
    "    # sort the list to group unique fruits together\n",
    "    fruit_list.sort()\n",
    "    # use a while loop to make a list of lists with form [['fruit_name', fruit_count], [], ...]\n",
    "    # first initialize 3 things: the final product fruit_count_list, an index variable\n",
    "    # and a count variable.  i_index counts through the sorted fruit_list.\n",
    "    # j_count will count the number of times a unique fruit is in fruit_list\n",
    "    fruit_count_list = []\n",
    "    i_index = 1\n",
    "    j_count = 1\n",
    "    # while i_index is less than the length of the fruit_list, keep going\n",
    "    while i_index < len(fruit_list):\n",
    "        # if the current i_index item is the same as the previous one add one to j_count\n",
    "        if fruit_list[i_index] == fruit_list[i_index - 1]:\n",
    "            j_count += 1\n",
    "        # if we find a new fruit, then I want to append the old fruit + the j_count to \n",
    "        # my output list and reinitialize my j_count\n",
    "        else:\n",
    "            fruit_count_list.append([fruit_list[i_index -1], j_count])\n",
    "            j_count = 1\n",
    "        # increment our looping variable to keep going through the list\n",
    "        i_index += 1    \n",
    "    # the last iteration of the while loop will not hit the else statement, so\n",
    "    # I append the last fruit and j_count outside the loop\n",
    "    fruit_count_list.append([fruit_list[i_index -1], j_count])\n",
    "    return fruit_count_list"
   ]
  },
  {
   "cell_type": "code",
   "execution_count": 121,
   "id": "25eb80c0",
   "metadata": {},
   "outputs": [
    {
     "name": "stdout",
     "output_type": "stream",
     "text": [
      "The most common favorite fruit is strawberry with 9 occurrences.\n"
     ]
    }
   ],
   "source": [
    "#3g continued. What is the most common favorite fruit\n",
    "\n",
    "# my solution is to make a list of lists; the inner lists will be\n",
    "# a unique fruit_name and a count of the number of times\n",
    "# that fruit_name appears. Then I will iterate over the outer list\n",
    "# to take the max of those counts and the associated fruit\n",
    "\n",
    "# make a list of all the favorite fruits of users\n",
    "fruit_list = make_fruit_list(profiles)\n",
    "\n",
    "# make a list of lists of [unique_fruit, count]\n",
    "fruit_count_list = count_fruits(fruit_list)\n",
    "\n",
    "# now we are ready to iterate over our new list and find the fruit that \n",
    "# is the most common\n",
    "# initialize max_fruit which will be the name of the fruit, i.e. a string\n",
    "# to be the first fruit in the list of lists\n",
    "max_fruit = fruit_count_list[0][0]\n",
    "# initialize max_fruit_count to be the first count in the list of lists\n",
    "max_fruit_count = fruit_count_list[0][1]\n",
    "# go through the fruit_count_list\n",
    "for fruit_ls in fruit_count_list:\n",
    "    # if the count of the next fruit is greater than our current max, update\n",
    "    # our variables with the new max_fruit_count and new max_fruit name\n",
    "    if fruit_ls[1] > max_fruit_count:\n",
    "        max_fruit_count = fruit_ls[1]\n",
    "        max_fruit = fruit_ls[0]\n",
    "\n",
    "# finally print the answer\n",
    "print(f\"The most common favorite fruit is {max_fruit} with {max_fruit_count} occurrences.\")"
   ]
  },
  {
   "cell_type": "code",
   "execution_count": 95,
   "id": "6dbaea42",
   "metadata": {},
   "outputs": [
    {
     "name": "stdout",
     "output_type": "stream",
     "text": [
      "The least common favorite fruit is banana with 4 occurrences.\n"
     ]
    }
   ],
   "source": [
    "#3f What is the least common favorite fruit?\n",
    "\n",
    "# make a list of all the favorite fruits of users\n",
    "fruit_list = make_fruit_list(profiles)\n",
    "\n",
    "# make a list of lists of [unique_fruit, count]\n",
    "fruit_count_list = count_fruits(fruit_list)\n",
    "\n",
    "# now we are ready to iterate over our new list and find the fruit that \n",
    "# is the least common. # use same logic as 3e\n",
    "min_fruit = fruit_count_list[0][0]\n",
    "min_fruit_count = fruit_count_list[0][1]\n",
    "for fruit_ls in fruit_count_list:\n",
    "    if fruit_ls[1] < min_fruit_count:\n",
    "        min_fruit_count = fruit_ls[1]\n",
    "        min_fruit = fruit_ls[0]\n",
    "\n",
    "# finally print the answer\n",
    "print(f\"The least common favorite fruit is {min_fruit} with {min_fruit_count} occurrences.\")"
   ]
  },
  {
   "cell_type": "code",
   "execution_count": 112,
   "id": "984944b1",
   "metadata": {},
   "outputs": [],
   "source": [
    "#3g What is the total number of unread messages for all users\n",
    "\n",
    "# the number of unread messages is contained in the 'greeting' value\n",
    "# each greeting is standardized with a greeting followed by the text\n",
    "# \"You have (x or xx or xxx or ...) unread messages\"\n",
    "# so we need to look at each greeting, parse it to get that number\n",
    "# in a string format, make it an int, and sum the int values\n",
    "\n",
    "# define a function to return the integer value for the number\n",
    "# of unread messages from a greeting string of the format:\n",
    "# \"Hello, first_name last_name! You have xxx unread messages\"\n",
    "def get_message_int(greeting_string):\n",
    "    # getting the last 28 characters in the string\n",
    "    # this will work unless there is an obscenely large number of \n",
    "    # unread messages or if the greeting_string is not in the\n",
    "    # standard format described above\n",
    "    greeting_string = greeting_string[-28:]\n",
    "    # initialize the variable str_digit\n",
    "    str_digit = ''\n",
    "    # go through greeting_string and collect the digits\n",
    "    for c in greeting_string:\n",
    "        if c.isdigit():\n",
    "            str_digit += c\n",
    "    # finally return an integer of our collected digits\n",
    "    return int(str_digit)\n",
    "    "
   ]
  },
  {
   "cell_type": "code",
   "execution_count": 116,
   "id": "2205d8c5",
   "metadata": {},
   "outputs": [
    {
     "name": "stdout",
     "output_type": "stream",
     "text": [
      "The total number of unread messages for all users is 210\n"
     ]
    }
   ],
   "source": [
    "#3g continued. What is the total number of unread messages for all users\n",
    "\n",
    "# initialize our count variable to 0\n",
    "message_count = 0\n",
    "# iterate for each dictionary (profile) in the list of dictionaries (profiles)\n",
    "for profile in profiles:\n",
    "    # add in the integer value of unread messages from the greeting string\n",
    "    message_count += get_message_int(profile['greeting'])\n",
    "\n",
    "# print the answer\n",
    "print(f\"The total number of unread messages for all users is {message_count}\")"
   ]
  },
  {
   "cell_type": "code",
   "execution_count": 63,
   "id": "d4b26de8",
   "metadata": {},
   "outputs": [
    {
     "data": {
      "text/plain": [
       "dict_keys(['_id', 'index', 'guid', 'isActive', 'balance', 'picture', 'age', 'eyeColor', 'name', 'gender', 'company', 'email', 'phone', 'address', 'about', 'registered', 'latitude', 'longitude', 'tags', 'friends', 'greeting', 'favoriteFruit'])"
      ]
     },
     "execution_count": 63,
     "metadata": {},
     "output_type": "execute_result"
    }
   ],
   "source": [
    "# review what the keys are\n",
    "profiles[0].keys()"
   ]
  }
 ],
 "metadata": {
  "kernelspec": {
   "display_name": "Python 3 (ipykernel)",
   "language": "python",
   "name": "python3"
  },
  "language_info": {
   "codemirror_mode": {
    "name": "ipython",
    "version": 3
   },
   "file_extension": ".py",
   "mimetype": "text/x-python",
   "name": "python",
   "nbconvert_exporter": "python",
   "pygments_lexer": "ipython3",
   "version": "3.9.13"
  }
 },
 "nbformat": 4,
 "nbformat_minor": 5
}
