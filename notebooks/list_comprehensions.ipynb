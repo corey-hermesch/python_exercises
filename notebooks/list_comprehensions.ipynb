{
 "cells": [
  {
   "cell_type": "code",
   "execution_count": 3,
   "id": "aad31d5d",
   "metadata": {},
   "outputs": [],
   "source": [
    "# 17 list comprehension problems in python\n",
    "\n",
    "fruits = ['mango', 'kiwi', 'strawberry', 'guava', 'pineapple', 'mandarin orange']\n",
    "\n",
    "numbers = [2, 3, 4, 5, 6, 7, 8, 9, 10, 11, 13, 17, 19, 23, 256, -8, -4, -2, 5, -9]\n"
   ]
  },
  {
   "cell_type": "code",
   "execution_count": 2,
   "id": "1e07cb80",
   "metadata": {},
   "outputs": [],
   "source": [
    "# Example for loop solution to add 1 to each number in the list\n",
    "numbers_plus_one = []\n",
    "for number in numbers:\n",
    "    numbers_plus_one.append(number + 1)\n"
   ]
  },
  {
   "cell_type": "code",
   "execution_count": 4,
   "id": "6b2bc7bd",
   "metadata": {},
   "outputs": [],
   "source": [
    "# Example of using a list comprehension to create a list of the numbers\n",
    "# plus one.\n",
    "numbers_plus_one = [number + 1 for number in numbers]\n"
   ]
  },
  {
   "cell_type": "code",
   "execution_count": 5,
   "id": "a0ed5b52",
   "metadata": {},
   "outputs": [],
   "source": [
    "# Example code that creates a list of all of the list of strings in \n",
    "# fruits and uppercases every string\n",
    "output = []\n",
    "for fruit in fruits:\n",
    "    output.append(fruit.upper())\n",
    "    "
   ]
  },
  {
   "cell_type": "code",
   "execution_count": 8,
   "id": "ed426cb7",
   "metadata": {},
   "outputs": [
    {
     "data": {
      "text/plain": [
       "['MANGO', 'KIWI', 'STRAWBERRY', 'GUAVA', 'PINEAPPLE', 'MANDARIN ORANGE']"
      ]
     },
     "execution_count": 8,
     "metadata": {},
     "output_type": "execute_result"
    }
   ],
   "source": [
    "# Exercise 1 - rewrite the above example code using list comprehension \n",
    "# syntax. Make a variable named uppercased_fruits to hold the output \n",
    "# of the list comprehension. Output should be ['MANGO', 'KIWI', etc...]\n",
    "output = []\n",
    "output = [fruit.upper() for fruit in fruits]\n",
    "output"
   ]
  },
  {
   "cell_type": "code",
   "execution_count": 9,
   "id": "fd5dcb89",
   "metadata": {},
   "outputs": [
    {
     "data": {
      "text/plain": [
       "['Mango', 'Kiwi', 'Strawberry', 'Guava', 'Pineapple', 'Mandarin orange']"
      ]
     },
     "execution_count": 9,
     "metadata": {},
     "output_type": "execute_result"
    }
   ],
   "source": [
    "# Exercise 2 - create a variable named capitalized_fruits and use list \n",
    "# comprehension syntax to produce output like ['Mango', 'Kiwi', \n",
    "# 'Strawberry', etc...]\n",
    "capitalized_fruits = [fruit[0].upper() + fruit[1:] for fruit in fruits]\n",
    "capitalized_fruits"
   ]
  },
  {
   "cell_type": "code",
   "execution_count": 18,
   "id": "b5313336",
   "metadata": {},
   "outputs": [
    {
     "data": {
      "text/plain": [
       "['mango', 'kiwi', 'strawberry', 'guava', 'pineapple', 'mandarin orange']"
      ]
     },
     "execution_count": 18,
     "metadata": {},
     "output_type": "execute_result"
    }
   ],
   "source": [
    "# Exercise 3 - Use a list comprehension to make a variable named \n",
    "# fruits_with_more_than_two_vowels. Hint: You'll need a way to check \n",
    "# if something is a vowel.\n",
    "def num_vowels(word):\n",
    "    count_vowels = 0\n",
    "    for c in word.lower():\n",
    "        if c in 'aeiou':\n",
    "            count_vowels += 1\n",
    "    return count_vowels\n",
    "\n",
    "fruits_with_more_than_two_vowels = []\n",
    "fruits_with_more_than_two_vowels = [fruit for fruit in fruits if (\n",
    "                                    num_vowels(fruit) >= 2)]\n",
    "fruits_with_more_than_two_vowels"
   ]
  },
  {
   "cell_type": "code",
   "execution_count": 20,
   "id": "5d175720",
   "metadata": {},
   "outputs": [
    {
     "data": {
      "text/plain": [
       "['mango', 'kiwi', 'strawberry']"
      ]
     },
     "execution_count": 20,
     "metadata": {},
     "output_type": "execute_result"
    }
   ],
   "source": [
    "# Exercise 4 - make a variable named fruits_with_only_two_vowels. \n",
    "# The result should be ['mango', 'kiwi', 'strawberry']\n",
    "fruits_with_only_two_vowels = [fruit for fruit in fruits if (\n",
    "                                    num_vowels(fruit) == 2)]\n",
    "fruits_with_only_two_vowels"
   ]
  },
  {
   "cell_type": "code",
   "execution_count": 21,
   "id": "9842fe09",
   "metadata": {},
   "outputs": [
    {
     "data": {
      "text/plain": [
       "['strawberry', 'pineapple', 'mandarin orange']"
      ]
     },
     "execution_count": 21,
     "metadata": {},
     "output_type": "execute_result"
    }
   ],
   "source": [
    "# Exercise 5 - make a list that contains each fruit with more than 5 \n",
    "# characters\n",
    "fruits_with_more_than_5_chars = [fruit for fruit in fruits if (\n",
    "                                 len(fruit) > 5)]\n",
    "fruits_with_more_than_5_chars"
   ]
  },
  {
   "cell_type": "code",
   "execution_count": 22,
   "id": "028469ad",
   "metadata": {},
   "outputs": [
    {
     "data": {
      "text/plain": [
       "['mango', 'guava']"
      ]
     },
     "execution_count": 22,
     "metadata": {},
     "output_type": "execute_result"
    }
   ],
   "source": [
    "# Exercise 6 - make a list that contains each fruit with exactly 5\n",
    "# characters\n",
    "fruits_with_more_5_chars = [fruit for fruit in fruits if (\n",
    "                                 len(fruit) == 5)]\n",
    "fruits_with_more_5_chars"
   ]
  },
  {
   "cell_type": "code",
   "execution_count": 23,
   "id": "d12a5ea8",
   "metadata": {},
   "outputs": [
    {
     "data": {
      "text/plain": [
       "['kiwi']"
      ]
     },
     "execution_count": 23,
     "metadata": {},
     "output_type": "execute_result"
    }
   ],
   "source": [
    "# Exercise 7 - Make a list that contains fruits that have less than 5 \n",
    "# characters\n",
    "fruits_with_less_than_5_chars = [fruit for fruit in fruits if (\n",
    "                                 len(fruit) < 5)]\n",
    "fruits_with_less_than_5_chars"
   ]
  },
  {
   "cell_type": "code",
   "execution_count": 24,
   "id": "6a9ee95b",
   "metadata": {},
   "outputs": [
    {
     "data": {
      "text/plain": [
       "[5, 4, 10, 5, 9, 15]"
      ]
     },
     "execution_count": 24,
     "metadata": {},
     "output_type": "execute_result"
    }
   ],
   "source": [
    "# Exercise 8 - Make a list containing the number of characters in each \n",
    "# fruit. Output would be [5, 4, 10, etc... ]\n",
    "fruit_char_length_list = [len(fruit) for fruit in fruits]\n",
    "fruit_char_length_list"
   ]
  },
  {
   "cell_type": "code",
   "execution_count": 25,
   "id": "b088bac2",
   "metadata": {},
   "outputs": [
    {
     "data": {
      "text/plain": [
       "['mango', 'strawberry', 'guava', 'pineapple', 'mandarin orange']"
      ]
     },
     "execution_count": 25,
     "metadata": {},
     "output_type": "execute_result"
    }
   ],
   "source": [
    "# Exercise 9 - Make a variable named fruits_with_letter_a that contains\n",
    "# a list of only the fruits that contain the letter \"a\"\n",
    "fruits_with_letter_a = [fruit for fruit in fruits if 'a' in fruit]\n",
    "fruits_with_letter_a\n"
   ]
  },
  {
   "cell_type": "code",
   "execution_count": 36,
   "id": "21bcc62d",
   "metadata": {},
   "outputs": [
    {
     "data": {
      "text/plain": [
       "[2, 4, 6, 8, 10, 256, -8, -4, -2]"
      ]
     },
     "execution_count": 36,
     "metadata": {},
     "output_type": "execute_result"
    }
   ],
   "source": [
    "# Exercise 10 - Make a variable named even_numbers that holds only the \n",
    "# even numbers \n",
    "even_numbers = [x for x in numbers if x % 2 == 0]\n",
    "even_numbers\n"
   ]
  },
  {
   "cell_type": "code",
   "execution_count": 37,
   "id": "6cbe6fb9",
   "metadata": {},
   "outputs": [
    {
     "data": {
      "text/plain": [
       "[3, 5, 7, 9, 11, 13, 17, 19, 23, 5, -9]"
      ]
     },
     "execution_count": 37,
     "metadata": {},
     "output_type": "execute_result"
    }
   ],
   "source": [
    "# Exercise 11 - Make a variable named odd_numbers that holds only the \n",
    "# odd numbers\n",
    "odd_numbers = [x for x in numbers if x % 2 == 1]\n",
    "odd_numbers"
   ]
  },
  {
   "cell_type": "code",
   "execution_count": 38,
   "id": "fab4292b",
   "metadata": {},
   "outputs": [
    {
     "data": {
      "text/plain": [
       "[2, 3, 4, 5, 6, 7, 8, 9, 10, 11, 13, 17, 19, 23, 256, 5]"
      ]
     },
     "execution_count": 38,
     "metadata": {},
     "output_type": "execute_result"
    }
   ],
   "source": [
    "# Exercise 12 - Make a variable named positive_numbers that holds only \n",
    "# the positive numbers\n",
    "pos_numbers = [x for x in numbers if x > 0]\n",
    "pos_numbers"
   ]
  },
  {
   "cell_type": "code",
   "execution_count": 40,
   "id": "8c55226e",
   "metadata": {},
   "outputs": [
    {
     "data": {
      "text/plain": [
       "[-8, -4, -2, -9]"
      ]
     },
     "execution_count": 40,
     "metadata": {},
     "output_type": "execute_result"
    }
   ],
   "source": [
    "# Exercise 13 - Make a variable named negative_numbers that holds only \n",
    "# the negative numbers\n",
    "negative_numbers = [x for x in numbers if x < 0]\n",
    "negative_numbers"
   ]
  },
  {
   "cell_type": "code",
   "execution_count": 41,
   "id": "dd5d6bfd",
   "metadata": {},
   "outputs": [
    {
     "data": {
      "text/plain": [
       "[10, 11, 13, 17, 19, 23, 256]"
      ]
     },
     "execution_count": 41,
     "metadata": {},
     "output_type": "execute_result"
    }
   ],
   "source": [
    "# Exercise 14 - use a list comprehension w/ a conditional in order to \n",
    "# produce a list of numbers with 2 or more numerals\n",
    "test_list = [1, -1, 0, 25, 100, -42, 16]\n",
    "two_plus_nums = [x for x in numbers if (\n",
    "                 len(str(x).strip('-')) >= 2)]\n",
    "two_plus_nums\n"
   ]
  },
  {
   "cell_type": "code",
   "execution_count": 42,
   "id": "64bb8c5b",
   "metadata": {},
   "outputs": [
    {
     "data": {
      "text/plain": [
       "[4,\n",
       " 9,\n",
       " 16,\n",
       " 25,\n",
       " 36,\n",
       " 49,\n",
       " 64,\n",
       " 81,\n",
       " 100,\n",
       " 121,\n",
       " 169,\n",
       " 289,\n",
       " 361,\n",
       " 529,\n",
       " 65536,\n",
       " 64,\n",
       " 16,\n",
       " 4,\n",
       " 25,\n",
       " 81]"
      ]
     },
     "execution_count": 42,
     "metadata": {},
     "output_type": "execute_result"
    }
   ],
   "source": [
    "# Exercise 15 - Make a variable named numbers_squared that contains \n",
    "# the numbers list with each element squared. \n",
    "# Output is [4, 9, 16, etc...]\n",
    "numbers_squared = [x ** 2 for x in numbers]\n",
    "numbers_squared"
   ]
  },
  {
   "cell_type": "code",
   "execution_count": 43,
   "id": "dfa535a3",
   "metadata": {},
   "outputs": [
    {
     "data": {
      "text/plain": [
       "[-9]"
      ]
     },
     "execution_count": 43,
     "metadata": {},
     "output_type": "execute_result"
    }
   ],
   "source": [
    "# Exercise 16 - Make a variable named odd_negative_numbers that \n",
    "# contains only the numbers that are both odd and negative.\n",
    "odd_negative_numbers = [x for x in numbers if (x < 0) and (x % 2 == 1)]\n",
    "odd_negative_numbers"
   ]
  },
  {
   "cell_type": "code",
   "execution_count": 44,
   "id": "042a805d",
   "metadata": {},
   "outputs": [
    {
     "data": {
      "text/plain": [
       "[7, 8, 9, 10, 11, 12, 13, 14, 15, 16, 18, 22, 24, 28, 261, -3, 1, 3, 10, -4]"
      ]
     },
     "execution_count": 44,
     "metadata": {},
     "output_type": "execute_result"
    }
   ],
   "source": [
    "# Exercise 17 - Make a variable named numbers_plus_5. In it, return a \n",
    "# list containing each number plus five. \n",
    "numbers_plus_5 = [x + 5 for x in numbers]\n",
    "numbers_plus_5"
   ]
  },
  {
   "cell_type": "code",
   "execution_count": 63,
   "id": "0f64d232",
   "metadata": {},
   "outputs": [
    {
     "data": {
      "text/plain": [
       "[2, 3, 5, 7, 11, 13, 17, 19, 23, 5]"
      ]
     },
     "execution_count": 63,
     "metadata": {},
     "output_type": "execute_result"
    }
   ],
   "source": [
    "# BONUS Make a variable named \"primes\" that is a list containing the \n",
    "# prime numbers in the numbers list. *Hint* you may want to make or \n",
    "# find a helper function that determines if a given number is prime \n",
    "# or not.\n",
    "\n",
    "# is_prime will take a positive integer and return True if it is prime\n",
    "# and false if it is not prime\n",
    "# A google search helped me optimize this function. \n",
    "# BL, we only have to check for no remainder up to the square root of y\n",
    "def is_prime(y):\n",
    "    if y <= 1: \n",
    "        return False\n",
    "    for i in range(2,int(y ** .5 + 1)):\n",
    "        if y % i == 0:\n",
    "            return False\n",
    "    return True\n",
    "\n",
    "primes = [x for x in numbers if is_prime(x)]\n",
    "primes"
   ]
  },
  {
   "cell_type": "code",
   "execution_count": 64,
   "id": "06b4577c",
   "metadata": {},
   "outputs": [
    {
     "data": {
      "text/plain": [
       "[2, 3, 4, 5, 6, 7, 8, 9, 10, 11, 13, 17, 19, 23, 256, -8, -4, -2, 5, -9]"
      ]
     },
     "execution_count": 64,
     "metadata": {},
     "output_type": "execute_result"
    }
   ],
   "source": [
    "numbers"
   ]
  },
  {
   "cell_type": "code",
   "execution_count": null,
   "id": "6e100918",
   "metadata": {},
   "outputs": [],
   "source": []
  }
 ],
 "metadata": {
  "kernelspec": {
   "display_name": "Python 3 (ipykernel)",
   "language": "python",
   "name": "python3"
  },
  "language_info": {
   "codemirror_mode": {
    "name": "ipython",
    "version": 3
   },
   "file_extension": ".py",
   "mimetype": "text/x-python",
   "name": "python",
   "nbconvert_exporter": "python",
   "pygments_lexer": "ipython3",
   "version": "3.9.13"
  }
 },
 "nbformat": 4,
 "nbformat_minor": 5
}
